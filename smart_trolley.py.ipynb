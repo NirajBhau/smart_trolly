{
 "cells": [
  {
   "cell_type": "code",
   "execution_count": 1,
   "id": "278fd587",
   "metadata": {},
   "outputs": [
    {
     "name": "stdout",
     "output_type": "stream",
     "text": [
      "Defaulting to user installation because normal site-packages is not writeable\n",
      "Collecting opencv-python\n",
      "  Downloading opencv_python-4.10.0.84-cp37-abi3-win_amd64.whl (38.8 MB)\n",
      "     ---------------------------------------- 38.8/38.8 MB 3.4 MB/s eta 0:00:00\n",
      "Collecting pyzbar\n",
      "  Downloading pyzbar-0.1.9-py2.py3-none-win_amd64.whl (817 kB)\n",
      "     -------------------------------------- 817.4/817.4 kB 7.4 MB/s eta 0:00:00\n",
      "Requirement already satisfied: numpy>=1.17.3 in c:\\programdata\\anaconda3\\lib\\site-packages (from opencv-python) (1.23.5)\n",
      "Installing collected packages: pyzbar, opencv-python\n",
      "Successfully installed opencv-python-4.10.0.84 pyzbar-0.1.9\n",
      "Note: you may need to restart the kernel to use updated packages.\n"
     ]
    },
    {
     "name": "stderr",
     "output_type": "stream",
     "text": [
      "WARNING: Ignoring invalid distribution -rotobuf (c:\\users\\niraj\\appdata\\roaming\\python\\python310\\site-packages)\n",
      "WARNING: Ignoring invalid distribution -rotobuf (c:\\users\\niraj\\appdata\\roaming\\python\\python310\\site-packages)\n",
      "WARNING: Ignoring invalid distribution -rotobuf (c:\\users\\niraj\\appdata\\roaming\\python\\python310\\site-packages)\n",
      "WARNING: Ignoring invalid distribution -rotobuf (c:\\users\\niraj\\appdata\\roaming\\python\\python310\\site-packages)\n",
      "WARNING: Ignoring invalid distribution -rotobuf (c:\\users\\niraj\\appdata\\roaming\\python\\python310\\site-packages)\n",
      "WARNING: Ignoring invalid distribution -rotobuf (c:\\users\\niraj\\appdata\\roaming\\python\\python310\\site-packages)\n",
      "WARNING: Ignoring invalid distribution -rotobuf (c:\\users\\niraj\\appdata\\roaming\\python\\python310\\site-packages)\n",
      "WARNING: Ignoring invalid distribution -rotobuf (c:\\users\\niraj\\appdata\\roaming\\python\\python310\\site-packages)\n"
     ]
    }
   ],
   "source": [
    "pip install opencv-python pyzbar"
   ]
  },
  {
   "cell_type": "code",
   "execution_count": 2,
   "id": "26d1ff63",
   "metadata": {},
   "outputs": [
    {
     "name": "stderr",
     "output_type": "stream",
     "text": [
      "2024-10-24 19:25:50.409 WARNING streamlit.config: \n",
      "Warning: the config option 'server.enableCORS=false' is not compatible with 'server.enableXsrfProtection=true'.\n",
      "As a result, 'server.enableCORS' is being overridden to 'true'.\n",
      "\n",
      "More information:\n",
      "In order to protect against CSRF attacks, we send a cookie with each request.\n",
      "To do so, we must specify allowable origins, which places a restriction on\n",
      "cross-origin resource sharing.\n",
      "\n",
      "If cross origin resource sharing is required, please disable server.enableXsrfProtection.\n",
      "            \n",
      "2024-10-24 19:25:50.415 WARNING streamlit: \n",
      "  \u001b[33m\u001b[1mWarning:\u001b[0m to view this Streamlit app on a browser, run it with the following\n",
      "  command:\n",
      "\n",
      "    streamlit run C:\\ProgramData\\anaconda3\\lib\\site-packages\\ipykernel_launcher.py [ARGUMENTS]\n"
     ]
    }
   ],
   "source": [
    "import streamlit as st\n",
    "import pandas as pd\n",
    "import cv2\n",
    "from pyzbar.pyzbar import decode\n",
    "import numpy as np\n",
    "\n",
    "# Sample product database (In a real application, this would come from a database)\n",
    "products = {\n",
    "    \"product_id\": [1, 2, 3],\n",
    "    \"product_name\": [\"Apple\", \"Banana\", \"Cherry\"],\n",
    "    \"price\": [30, 20, 50],\n",
    "    \"barcode\": [\"1234567890123\", \"1234567890124\", \"1234567890125\"]  # Add barcode values\n",
    "}\n",
    "product_df = pd.DataFrame(products)\n",
    "\n",
    "# Initialize cart\n",
    "cart = []\n",
    "\n",
    "# Function to add items to cart\n",
    "def add_to_cart(product):\n",
    "    cart.append(product)\n",
    "\n",
    "# Function to calculate total\n",
    "def calculate_total(cart):\n",
    "    return sum(item['price'] for item in cart)\n",
    "\n",
    "# Function to decode barcode from image\n",
    "def decode_barcode(image):\n",
    "    gray_image = cv2.cvtColor(image, cv2.COLOR_BGR2GRAY)\n",
    "    barcodes = decode(gray_image)\n",
    "    return [barcode.data.decode('utf-8') for barcode in barcodes]\n",
    "\n",
    "# Streamlit UI\n",
    "st.title(\"Smart Trolley Billing System\")\n",
    "\n",
    "# Use camera input for scanning\n",
    "st.header(\"Scan Product\")\n",
    "image_file = st.camera_input(\"Take a picture of the product barcode\")\n",
    "\n",
    "if image_file:\n",
    "    # Convert the image to an array\n",
    "    img = cv2.imdecode(np.frombuffer(image_file.read(), np.uint8), 1)\n",
    "    \n",
    "    # Decode the barcode\n",
    "    barcodes = decode_barcode(img)\n",
    "    \n",
    "    if barcodes:\n",
    "        # Check if the scanned barcode corresponds to a product\n",
    "        scanned_barcode = barcodes[0]  # Take the first barcode found\n",
    "        product_row = product_df[product_df['barcode'] == scanned_barcode]\n",
    "        \n",
    "        if not product_row.empty:\n",
    "            product = {\n",
    "                \"product_name\": product_row['product_name'].values[0],\n",
    "                \"price\": product_row['price'].values[0]\n",
    "            }\n",
    "            add_to_cart(product)\n",
    "            st.success(f\"{product['product_name']} added to cart!\")\n",
    "        else:\n",
    "            st.error(\"Product not found.\")\n",
    "    else:\n",
    "        st.error(\"No barcode detected.\")\n",
    "\n",
    "# Display product list\n",
    "st.header(\"Available Products\")\n",
    "for index, row in product_df.iterrows():\n",
    "    st.write(f\"**{row['product_name']}** - ₹{row['price']}\")\n",
    "    if st.button(f\"Add {row['product_name']} to Cart\"):\n",
    "        add_to_cart({\"product_name\": row['product_name'], \"price\": row['price']})\n",
    "        st.success(f\"{row['product_name']} added to cart!\")\n",
    "\n",
    "# Display cart\n",
    "st.header(\"Your Cart\")\n",
    "if cart:\n",
    "    for item in cart:\n",
    "        st.write(f\"{item['product_name']} - ₹{item['price']}\")\n",
    "    total = calculate_total(cart)\n",
    "    st.write(f\"**Total: ₹{total}**\")\n",
    "else:\n",
    "    st.write(\"Your cart is empty.\")\n"
   ]
  },
  {
   "cell_type": "code",
   "execution_count": null,
   "id": "2f5fdd5d",
   "metadata": {},
   "outputs": [],
   "source": []
  }
 ],
 "metadata": {
  "kernelspec": {
   "display_name": "Python 3 (ipykernel)",
   "language": "python",
   "name": "python3"
  },
  "language_info": {
   "codemirror_mode": {
    "name": "ipython",
    "version": 3
   },
   "file_extension": ".py",
   "mimetype": "text/x-python",
   "name": "python",
   "nbconvert_exporter": "python",
   "pygments_lexer": "ipython3",
   "version": "3.10.9"
  }
 },
 "nbformat": 4,
 "nbformat_minor": 5
}
